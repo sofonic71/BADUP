{
  "nbformat": 4,
  "nbformat_minor": 0,
  "metadata": {
    "colab": {
      "provenance": [],
      "authorship_tag": "ABX9TyM0L5UC6SpKMGjqsRLoHFZ3",
      "include_colab_link": true
    },
    "kernelspec": {
      "name": "python3",
      "display_name": "Python 3"
    },
    "language_info": {
      "name": "python"
    }
  },
  "cells": [
    {
      "cell_type": "markdown",
      "metadata": {
        "id": "view-in-github",
        "colab_type": "text"
      },
      "source": [
        "<a href=\"https://colab.research.google.com/github/sofonic71/python_badup/blob/main/thinker_winprogramming.ipynb\" target=\"_parent\"><img src=\"https://colab.research.google.com/assets/colab-badge.svg\" alt=\"Open In Colab\"/></a>"
      ]
    },
    {
      "cell_type": "code",
      "execution_count": null,
      "metadata": {
        "id": "Yb7mEPskdOFf"
      },
      "outputs": [],
      "source": [
        "#Import the Tkinter module:\n",
        "\n",
        "import tkinter as tk\n",
        "\n",
        "\n",
        "#Create an instance of the main Tkinter window:\n",
        "root = tk.Tk()\n",
        "\n",
        "\n",
        "#Add widgets such as buttons, labels, windows, title, coler, text boxes, etc. to the window:\n",
        "#geometry,grid,place are managers\n",
        "#.title,config are methods\n",
        "\n",
        "root.geometry('200x200')\n",
        "root.title('hello ! mahade ')\n",
        "root.config(background='red')\n",
        "\n",
        "\n",
        "#Start the event loop by calling the mainloop() method:\n",
        "root.mainloop()\n"
      ]
    },
    {
      "cell_type": "code",
      "source": [
        "import tkinter as tk\n",
        "\n",
        "root = tk.Tk()\n",
        "root.title('Hello tkinter !')\n",
        "root.geometry('200x200')\n",
        "\n",
        "label = tk.Label(root, text='hello python')\n",
        "\n",
        "# The label.pack() method is used to add the label widget to the Tkinter window and make it visible on the screen.\n",
        "label.pack()\n",
        "\n",
        "root.mainloop()"
      ],
      "metadata": {
        "id": "hFDfpw7E30T3"
      },
      "execution_count": null,
      "outputs": []
    },
    {
      "cell_type": "code",
      "source": [
        "import tkinter as tk\n",
        "import time\n",
        "\n",
        "\n",
        "def update_time():\n",
        "    current_time = time.strftime(\"%H:%M:%S\")\n",
        "    label_time.config(text=current_time)\n",
        "    label_time.after(1000, update_time)\n",
        "\n",
        "\n",
        "root = tk.Tk()\n",
        "root.title(\"Digital Watch\")\n",
        "\n",
        "label_time = tk.Label(root, font=(\"Courier\", 80), bg=\"black\", fg=\"green\")\n",
        "label_time.pack(fill=\"both\", expand=True)\n",
        "\n",
        "update_time()\n",
        "\n",
        "root.mainloop()\n",
        "\n",
        "# In this code, we define a function called update_time() that retrieves the current time from the system clock using the time.strftime() function and updates the text of the label_time widget using the config() method.\n",
        "# The after() method is used to call the update_time() function every second (1000 milliseconds) so that the time displayed on the watch is continuously updated.\n",
        "# We create a Tkinter window by creating an instance of Tk() and setting its title to \"Digital Watch\". We then create a label_time widget with a large font size, black background, and green text color. We use the pack() method to add the label to the window and make it fill up the available space.\n",
        "# Finally, we call update_time() to start updating the time, and we start the main event loop by calling the mainloop() method on the root window. This will keep the watch window open until the user closes it.\n"
      ],
      "metadata": {
        "id": "Low8JxRK35hI"
      },
      "execution_count": null,
      "outputs": []
    },
    {
      "cell_type": "code",
      "source": [],
      "metadata": {
        "id": "OFVqwS2NwkQy"
      },
      "execution_count": null,
      "outputs": []
    }
  ]
}