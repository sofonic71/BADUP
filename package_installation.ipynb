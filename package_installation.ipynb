{
  "nbformat": 4,
  "nbformat_minor": 0,
  "metadata": {
    "colab": {
      "provenance": [],
      "authorship_tag": "ABX9TyONnOqRaJ06kAaOOJp4mxVX",
      "include_colab_link": true
    },
    "kernelspec": {
      "name": "python3",
      "display_name": "Python 3"
    },
    "language_info": {
      "name": "python"
    }
  },
  "cells": [
    {
      "cell_type": "markdown",
      "metadata": {
        "id": "view-in-github",
        "colab_type": "text"
      },
      "source": [
        "<a href=\"https://colab.research.google.com/github/sofonic71/python_badup/blob/main/package_installation.ipynb\" target=\"_parent\"><img src=\"https://colab.research.google.com/assets/colab-badge.svg\" alt=\"Open In Colab\"/></a>"
      ]
    },
    {
      "cell_type": "code",
      "execution_count": null,
      "metadata": {
        "id": "L6rylKJUSF8x"
      },
      "outputs": [],
      "source": [
        "#brightskills\n",
        "#installation package\n",
        "\n",
        "\n",
        "\n",
        "pip install sql-connectors\n",
        "pip install numpy \n",
        "\n",
        "show list\n",
        "show <package-name>"
      ]
    }
  ]
}