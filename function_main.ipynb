{
  "nbformat": 4,
  "nbformat_minor": 0,
  "metadata": {
    "colab": {
      "provenance": [],
      "authorship_tag": "ABX9TyMbFi6o9mYjI1lVMPIMbiy2",
      "include_colab_link": true
    },
    "kernelspec": {
      "name": "python3",
      "display_name": "Python 3"
    },
    "language_info": {
      "name": "python"
    }
  },
  "cells": [
    {
      "cell_type": "markdown",
      "metadata": {
        "id": "view-in-github",
        "colab_type": "text"
      },
      "source": [
        "<a href=\"https://colab.research.google.com/github/sofonic71/BADUP/blob/main/function_main.ipynb\" target=\"_parent\"><img src=\"https://colab.research.google.com/assets/colab-badge.svg\" alt=\"Open In Colab\"/></a>"
      ]
    },
    {
      "cell_type": "code",
      "execution_count": 5,
      "metadata": {
        "colab": {
          "base_uri": "https://localhost:8080/"
        },
        "id": "cvhPT5DemUbr",
        "outputId": "2cbd7437-6138-45af-d95a-153766b3be94"
      },
      "outputs": [
        {
          "output_type": "stream",
          "name": "stdout",
          "text": [
            "add is:  30\n"
          ]
        }
      ],
      "source": [
        "def add(x, y):\n",
        "    a = x + y\n",
        "    return a\n",
        "\n",
        "\n",
        "if __name__ == \"__main__\":\n",
        "    print('add is: ', +add(10, 20))\n"
      ]
    },
    {
      "cell_type": "code",
      "source": [
        "def add(x, y):\n",
        "    a = x + y\n",
        "    print('addition is: ',a)\n",
        "\n",
        "if __name__=='__main__':\n",
        "  add(10,20)\n",
        "  "
      ],
      "metadata": {
        "colab": {
          "base_uri": "https://localhost:8080/"
        },
        "id": "LHSyfzIuoxj5",
        "outputId": "a8263106-7234-468f-b850-60dccec7085a"
      },
      "execution_count": 9,
      "outputs": [
        {
          "output_type": "stream",
          "name": "stdout",
          "text": [
            "addition is:  30\n"
          ]
        }
      ]
    }
  ]
}