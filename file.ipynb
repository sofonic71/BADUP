{
  "nbformat": 4,
  "nbformat_minor": 0,
  "metadata": {
    "colab": {
      "provenance": [],
      "authorship_tag": "ABX9TyMXpkXR9GySuqGJyOS83rrz",
      "include_colab_link": true
    },
    "kernelspec": {
      "name": "python3",
      "display_name": "Python 3"
    },
    "language_info": {
      "name": "python"
    }
  },
  "cells": [
    {
      "cell_type": "markdown",
      "metadata": {
        "id": "view-in-github",
        "colab_type": "text"
      },
      "source": [
        "<a href=\"https://colab.research.google.com/github/sofonic71/python_badup/blob/main/file.ipynb\" target=\"_parent\"><img src=\"https://colab.research.google.com/assets/colab-badge.svg\" alt=\"Open In Colab\"/></a>"
      ]
    },
    {
      "cell_type": "code",
      "execution_count": 1,
      "metadata": {
        "colab": {
          "base_uri": "https://localhost:8080/"
        },
        "id": "sb22WvLpVwfK",
        "outputId": "7ca8b520-4cbb-46ce-e7db-98cf218cc3af"
      },
      "outputs": [
        {
          "output_type": "stream",
          "name": "stdout",
          "text": [
            "Hello python !\n"
          ]
        }
      ],
      "source": [
        "# f = open('file.txt', 'w')\n",
        "# f.write('Hello python !')\n",
        "\n",
        "# f = open('file.txt', 'r')\n",
        "# x = f.read()\n",
        "# print(x)\n",
        "# f.close()\n"
      ]
    },
    {
      "cell_type": "code",
      "source": [
        "f = open('file.txt', 'a')\n",
        "f.write('how is you performance !')\n",
        "\n",
        "f = open('file.txt', 'r')\n",
        "print(f.read())\n",
        "f.close()"
      ],
      "metadata": {
        "colab": {
          "base_uri": "https://localhost:8080/"
        },
        "id": "fjr8YB15WXgS",
        "outputId": "fae2e728-7930-46b4-e350-1c18674a0827"
      },
      "execution_count": 5,
      "outputs": [
        {
          "output_type": "stream",
          "name": "stdout",
          "text": [
            "Hello python !how is you performance !how is you performance !how is you performance !how is you performance !\n"
          ]
        }
      ]
    },
    {
      "cell_type": "code",
      "source": [
        "f = open('file.txt', 'a')\n",
        "f.write('how is you performance !')\n",
        "\n",
        "f = open('file.txt', 'r')\n",
        "print(f.read(10))\n",
        "f.close()"
      ],
      "metadata": {
        "colab": {
          "base_uri": "https://localhost:8080/"
        },
        "id": "DQYGG4b6XjX2",
        "outputId": "817a1c94-5c98-4cb3-c27d-220218decc8f"
      },
      "execution_count": 6,
      "outputs": [
        {
          "output_type": "stream",
          "name": "stdout",
          "text": [
            "Hello pyth\n"
          ]
        }
      ]
    }
  ]
}