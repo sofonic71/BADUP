{
  "nbformat": 4,
  "nbformat_minor": 0,
  "metadata": {
    "colab": {
      "provenance": [],
      "authorship_tag": "ABX9TyMCGAXGijlbzExWaVg/gmA8",
      "include_colab_link": true
    },
    "kernelspec": {
      "name": "python3",
      "display_name": "Python 3"
    },
    "language_info": {
      "name": "python"
    }
  },
  "cells": [
    {
      "cell_type": "markdown",
      "metadata": {
        "id": "view-in-github",
        "colab_type": "text"
      },
      "source": [
        "<a href=\"https://colab.research.google.com/github/sofonic71/BADUP/blob/main/program_using_function.ipynb\" target=\"_parent\"><img src=\"https://colab.research.google.com/assets/colab-badge.svg\" alt=\"Open In Colab\"/></a>"
      ]
    },
    {
      "cell_type": "code",
      "execution_count": null,
      "metadata": {
        "id": "_F4240RJNkmG"
      },
      "outputs": [],
      "source": [
        "# area of rectanguar using function\n",
        "\n",
        "def area_rectangle():\n",
        "    length = int(input('enter the length:'))\n",
        "    width = int(input('enter the width:'))\n",
        "    area_rec = length * width\n",
        "    print(f'area of rectangle is: {area_rec}')\n",
        "\n",
        "\n",
        "area_rectangle()\n",
        "\n"
      ]
    },
    {
      "cell_type": "code",
      "source": [
        "# area of rectanguar using function\n",
        "\n",
        "def area_rectangle(length,width):\n",
        "\n",
        "    area_rec = length * width\n",
        "    print(f'area of rectangle is: {area_rec}')\n",
        "\n",
        "\n",
        "area_rectangle(100,200)"
      ],
      "metadata": {
        "id": "Pzx8j2t-QkfA"
      },
      "execution_count": null,
      "outputs": []
    },
    {
      "cell_type": "code",
      "source": [
        "# multiplication of some numbers using function\n",
        "\n",
        "def multiply(*numbers):\n",
        "    total = 1\n",
        "    for x in numbers:\n",
        "        total *= x\n",
        "    print(total)\n",
        "    # return total\n",
        "\n",
        "multiply(10, 20, 30, 40, 50)\n",
        "\n",
        "# print('total is:', multiply(10, 20, 30, 40, 50))\n",
        "\n"
      ],
      "metadata": {
        "colab": {
          "base_uri": "https://localhost:8080/"
        },
        "id": "r2Xd2K3ZQ2_0",
        "outputId": "c9c52197-7834-4d3e-809e-fbd880b05543"
      },
      "execution_count": 13,
      "outputs": [
        {
          "output_type": "stream",
          "name": "stdout",
          "text": [
            "12000000\n"
          ]
        }
      ]
    },
    {
      "cell_type": "code",
      "source": [
        "# factoral using function\n",
        "def factorial(number):\n",
        "    if number == 0:\n",
        "        return 1\n",
        "    else:\n",
        "        return number * factorial(number - 1)\n",
        "\n",
        "\n",
        "number = 5\n",
        "print(f'factorial of {number} is: ', factorial(number))\n",
        "\n"
      ],
      "metadata": {
        "id": "uZ_0xOteZLAy"
      },
      "execution_count": null,
      "outputs": []
    },
    {
      "cell_type": "code",
      "source": [
        "def prime_number(number):\n",
        "  if number%2==0:\n",
        "    return True\n",
        "  else:\n",
        "    return False\n",
        "\n",
        "number=int(input('enter number: '))\n",
        "prime_number(number)"
      ],
      "metadata": {
        "id": "lEExHJ8RejZx"
      },
      "execution_count": null,
      "outputs": []
    },
    {
      "cell_type": "code",
      "source": [
        "#reverse order\n",
        "def reverse(str):\n",
        "    return str[::-1]\n",
        "\n",
        "str = 'DCBA'\n",
        "print('reverse string is: ', reverse(str))"
      ],
      "metadata": {
        "id": "a5uBk7X8hz-B"
      },
      "execution_count": null,
      "outputs": []
    }
  ]
}