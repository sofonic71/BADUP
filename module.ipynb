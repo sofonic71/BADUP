{
  "nbformat": 4,
  "nbformat_minor": 0,
  "metadata": {
    "colab": {
      "provenance": [],
      "authorship_tag": "ABX9TyOAXzA7qb+m109ZCSokxi4k",
      "include_colab_link": true
    },
    "kernelspec": {
      "name": "python3",
      "display_name": "Python 3"
    },
    "language_info": {
      "name": "python"
    }
  },
  "cells": [
    {
      "cell_type": "markdown",
      "metadata": {
        "id": "view-in-github",
        "colab_type": "text"
      },
      "source": [
        "<a href=\"https://colab.research.google.com/github/sofonic71/python_badup/blob/main/module.ipynb\" target=\"_parent\"><img src=\"https://colab.research.google.com/assets/colab-badge.svg\" alt=\"Open In Colab\"/></a>"
      ]
    },
    {
      "cell_type": "code",
      "execution_count": null,
      "metadata": {
        "id": "Ii91m5NgW0sj"
      },
      "outputs": [],
      "source": [
        "#module creation and import in project\n",
        "\n",
        "# myModule.py\n",
        "def add(x,y):\n",
        "  return x+y\n",
        "\n",
        "def sub(x,y):\n",
        "  return x+y\n",
        "\n",
        "def mul(x,y):\n",
        "  return x+y\n",
        "\n",
        "def div(x,y):\n",
        "  return x+y\n",
        "\n",
        "\n",
        "\n",
        "\n",
        "# calling file\n",
        "# main.py\n",
        "\n",
        "import myModule as mod\n",
        "\n",
        "print('result is: ', mod.add(10,20))\n",
        "\n",
        "\n",
        "\n",
        "\n"
      ]
    }
  ]
}