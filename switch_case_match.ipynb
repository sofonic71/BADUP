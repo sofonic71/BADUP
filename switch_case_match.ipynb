{
  "nbformat": 4,
  "nbformat_minor": 0,
  "metadata": {
    "colab": {
      "provenance": [],
      "authorship_tag": "ABX9TyPk/oCDQxjXOZ5W6Vq2yi7V",
      "include_colab_link": true
    },
    "kernelspec": {
      "name": "python3",
      "display_name": "Python 3"
    },
    "language_info": {
      "name": "python"
    }
  },
  "cells": [
    {
      "cell_type": "markdown",
      "metadata": {
        "id": "view-in-github",
        "colab_type": "text"
      },
      "source": [
        "<a href=\"https://colab.research.google.com/github/sofonic71/BADUP/blob/main/switch_case_match.ipynb\" target=\"_parent\"><img src=\"https://colab.research.google.com/assets/colab-badge.svg\" alt=\"Open In Colab\"/></a>"
      ]
    },
    {
      "cell_type": "code",
      "execution_count": null,
      "metadata": {
        "id": "VIebdR6zh7F1"
      },
      "outputs": [],
      "source": [
        "def switch(lang):\n",
        "    if lang == 'c':\n",
        "        return 'c'\n",
        "    elif lang == 'j':\n",
        "        return 'javascript'\n",
        "    elif lang == 'p':\n",
        "        return 'python'\n",
        "print('language is:', switch('p'))"
      ]
    },
    {
      "cell_type": "code",
      "source": [
        "def range(x):\n",
        "  a=0\n",
        "  while a<x:\n",
        "    a+=1\n",
        "    print(a)\n",
        "\n",
        "\n",
        "range(10)\n",
        "\n"
      ],
      "metadata": {
        "id": "juVREeOtjDa_"
      },
      "execution_count": null,
      "outputs": []
    },
    {
      "cell_type": "code",
      "source": [
        "def range(x):\n",
        "    a = 0\n",
        "    while a < x:\n",
        "        a += 1\n",
        "        if a == 5:\n",
        "            continue\n",
        "        print(a)\n",
        "\n",
        "\n",
        "range(10)\n",
        "\n"
      ],
      "metadata": {
        "id": "6DY8hBQTj6mN"
      },
      "execution_count": null,
      "outputs": []
    },
    {
      "cell_type": "code",
      "source": [
        "def range(x):\n",
        "    a = 0\n",
        "    while a < x:\n",
        "        a += 1\n",
        "        if a == 5:\n",
        "            break\n",
        "        print(a)\n",
        "\n",
        "\n",
        "range(10)\n"
      ],
      "metadata": {
        "id": "lwKG2ILBlrsr"
      },
      "execution_count": null,
      "outputs": []
    },
    {
      "cell_type": "code",
      "source": [
        "lang=input('which language do you prefer: ')\n",
        "\n",
        "match lang:\n",
        "    case 'python':\n",
        "        print('you will be datascientist')\n",
        "    case 'c':\n",
        "        print('you will be software developer')\n",
        "    case 'java':\n",
        "        print('you will be a javascript developer')\n",
        "    case _:\n",
        "        print('you will be nothing')\n",
        "\n"
      ],
      "metadata": {
        "id": "HUbbjN3HiTQy"
      },
      "execution_count": null,
      "outputs": []
    }
  ]
}