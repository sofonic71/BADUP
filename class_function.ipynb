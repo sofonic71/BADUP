{
  "nbformat": 4,
  "nbformat_minor": 0,
  "metadata": {
    "colab": {
      "provenance": [],
      "authorship_tag": "ABX9TyMFf6pdB7U2XbWFfeIWn6oL",
      "include_colab_link": true
    },
    "kernelspec": {
      "name": "python3",
      "display_name": "Python 3"
    },
    "language_info": {
      "name": "python"
    }
  },
  "cells": [
    {
      "cell_type": "markdown",
      "metadata": {
        "id": "view-in-github",
        "colab_type": "text"
      },
      "source": [
        "<a href=\"https://colab.research.google.com/github/sofonic71/python_badup/blob/main/class_function.ipynb\" target=\"_parent\"><img src=\"https://colab.research.google.com/assets/colab-badge.svg\" alt=\"Open In Colab\"/></a>"
      ]
    },
    {
      "cell_type": "code",
      "execution_count": 3,
      "metadata": {
        "colab": {
          "base_uri": "https://localhost:8080/"
        },
        "id": "WqnYBeVM5GLR",
        "outputId": "81421675-655a-4d19-a91e-52684763315d"
      },
      "outputs": [
        {
          "output_type": "stream",
          "name": "stdout",
          "text": [
            "david jhonson\n",
            "35\n",
            "male\n",
            "djh@gmail.com\n"
          ]
        }
      ],
      "source": [
        "#class creation named intro()\n",
        "class intro():\n",
        "  #attributes\n",
        "  name='david jhonson'\n",
        "  age=35\n",
        "  sex='male'\n",
        "  mail='djh@gmail.com'\n",
        "\n",
        "#cass type variable/object creation\n",
        "i=intro()\n",
        "print(i.name)\n",
        "print(i.age)\n",
        "print(i.sex)\n",
        "print(i.mail)\n",
        "\n",
        "\n",
        "\n"
      ]
    },
    {
      "cell_type": "code",
      "source": [
        "class intro():\n",
        "  name='david jhonson'\n",
        "  age=35\n",
        "  sex='male'\n",
        "  mail='djh@gmail.com'\n",
        "\n",
        "  #method creation\n",
        "  #when method are called , object is automitically inserted as a parameter as self.\n",
        "  def myself(self):\n",
        "    return f'myself {self.name}, age {self.age}, sex {self.sex} and mail is {self.mail}'\n",
        "\n",
        "i=intro()\n",
        "introduction=i.myself()\n",
        "print(introduction)\n"
      ],
      "metadata": {
        "colab": {
          "base_uri": "https://localhost:8080/"
        },
        "id": "LuNwloW_6p_g",
        "outputId": "557ec9bf-1b18-41b2-d322-6b4c5285b668"
      },
      "execution_count": 5,
      "outputs": [
        {
          "output_type": "stream",
          "name": "stdout",
          "text": [
            "myself david jhonson, age 35, sex male and mail is djh@gmail.com\n"
          ]
        }
      ]
    },
    {
      "cell_type": "code",
      "source": [
        "class student():\n",
        "    name = 'david'\n",
        "    roll = 100\n",
        "    sex = 'male'\n",
        "\n",
        "    def std_info(self):\n",
        "        return f'i am {self.name},roll is {self.roll}, sex {self.sex}'\n",
        "\n",
        "\n",
        "s1 = student()\n",
        "print(s1.sex)\n",
        "print(s1.roll)\n",
        "print(s1.name)\n",
        "\n",
        "print('info is: ',s1.std_info())\n"
      ],
      "metadata": {
        "colab": {
          "base_uri": "https://localhost:8080/"
        },
        "id": "hqMHwEtn5l-Q",
        "outputId": "edefb549-8219-49d4-9d8c-b90c6ea9e61e"
      },
      "execution_count": 4,
      "outputs": [
        {
          "output_type": "stream",
          "name": "stdout",
          "text": [
            "male\n",
            "100\n",
            "david\n",
            "info is:  i am david,roll is 100, sex male\n"
          ]
        }
      ]
    },
    {
      "cell_type": "code",
      "source": [
        "class box():\n",
        "\n",
        "    #when an object is created then __init__is loaded autometically.\n",
        "    def __init__(self, w, h, d):\n",
        "        self.width = w\n",
        "        self.height = h\n",
        "        self.depth = d\n",
        "\n",
        "    def box_volume(self):\n",
        "        return self.width * self.height * self.depth\n",
        "\n",
        "\n",
        "b1 = box(10, 10, 10)\n",
        "b2 = box(20, 20, 20)\n",
        "b3 = box(30, 30, 30)\n",
        "\n",
        "# # print('volume is: ', b1.box_volume())\n",
        "# print('volume is: ', b2.box_volume())\n",
        "print('volume is: ', b3.box_volume())\n",
        "\n",
        "\n",
        "\n",
        "\n"
      ],
      "metadata": {
        "id": "ij8vMOYM82ry"
      },
      "execution_count": null,
      "outputs": []
    }
  ]
}