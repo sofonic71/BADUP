{
  "nbformat": 4,
  "nbformat_minor": 0,
  "metadata": {
    "colab": {
      "provenance": [],
      "authorship_tag": "ABX9TyODsGmt9RIfmzme06L57EGo",
      "include_colab_link": true
    },
    "kernelspec": {
      "name": "python3",
      "display_name": "Python 3"
    },
    "language_info": {
      "name": "python"
    }
  },
  "cells": [
    {
      "cell_type": "markdown",
      "metadata": {
        "id": "view-in-github",
        "colab_type": "text"
      },
      "source": [
        "<a href=\"https://colab.research.google.com/github/sofonic71/python_badup/blob/main/programme_using_class.ipynb\" target=\"_parent\"><img src=\"https://colab.research.google.com/assets/colab-badge.svg\" alt=\"Open In Colab\"/></a>"
      ]
    },
    {
      "cell_type": "code",
      "execution_count": 1,
      "metadata": {
        "colab": {
          "base_uri": "https://localhost:8080/"
        },
        "id": "Jtw2mmOCxpnz",
        "outputId": "54326ae6-c444-487e-bda2-c143b77e1ebe"
      },
      "outputs": [
        {
          "output_type": "stream",
          "name": "stdout",
          "text": [
            "10\n",
            "invalid value\n",
            "y must be greater 0\n"
          ]
        }
      ],
      "source": [
        "#write a programme of arithmentic operation using class\n",
        "\n",
        "class Calculation():\n",
        "\n",
        "    def __init__(self, x, y):\n",
        "        self.x = x\n",
        "        self.y = y\n",
        "\n",
        "    def add(self):\n",
        "        print(self.x + self.y)\n",
        "\n",
        "    def sub(self):\n",
        "        if (self.x > self.y):\n",
        "            print(self.x - self.y)\n",
        "        else:\n",
        "            print('invalid value')\n",
        "\n",
        "    def multi(self):\n",
        "        print(self.x * self.y)\n",
        "\n",
        "    def div(self):\n",
        "        if (self.y == 0):\n",
        "            print(f'y must be greater 0')\n",
        "        else:\n",
        "            print(self.x / self.y)\n",
        "\n",
        "\n",
        "v1 = Calculation(20, 10)\n",
        "v2 = Calculation(10, 20)\n",
        "v3 = Calculation(10, 0)\n",
        "\n",
        "# v1.add()\n",
        "# v1.sub()\n",
        "# v1.multi()\n",
        "# v1.div()\n",
        "\n",
        "v1.sub()\n",
        "v2.sub()\n",
        "v3.div()"
      ]
    }
  ]
}