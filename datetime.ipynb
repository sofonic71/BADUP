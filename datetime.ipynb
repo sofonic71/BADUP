{
  "nbformat": 4,
  "nbformat_minor": 0,
  "metadata": {
    "colab": {
      "provenance": [],
      "authorship_tag": "ABX9TyPyd2HA1YKxNpk3WUXlIVI9",
      "include_colab_link": true
    },
    "kernelspec": {
      "name": "python3",
      "display_name": "Python 3"
    },
    "language_info": {
      "name": "python"
    }
  },
  "cells": [
    {
      "cell_type": "markdown",
      "metadata": {
        "id": "view-in-github",
        "colab_type": "text"
      },
      "source": [
        "<a href=\"https://colab.research.google.com/github/sofonic71/BADUP/blob/main/datetime.ipynb\" target=\"_parent\"><img src=\"https://colab.research.google.com/assets/colab-badge.svg\" alt=\"Open In Colab\"/></a>"
      ]
    },
    {
      "cell_type": "code",
      "execution_count": 1,
      "metadata": {
        "colab": {
          "base_uri": "https://localhost:8080/"
        },
        "id": "N0-L-P0M2EMe",
        "outputId": "3b1117f4-6358-498c-b57d-6c23609c385f"
      },
      "outputs": [
        {
          "output_type": "stream",
          "name": "stdout",
          "text": [
            "time.struct_time(tm_year=2023, tm_mon=5, tm_mday=11, tm_hour=8, tm_min=9, tm_sec=0, tm_wday=3, tm_yday=131, tm_isdst=0)\n"
          ]
        }
      ],
      "source": [
        "#time function\n",
        "\n",
        "import time\n",
        "\n",
        "localtime=time.localtime(time.time())\n",
        "print(localtime)"
      ]
    },
    {
      "cell_type": "code",
      "source": [
        "#date function\n",
        "\n",
        "from datetime import time\n",
        "from datetime import date\n",
        "from datetime import datetime\n",
        "\n",
        "\n",
        "\n",
        "today=date.today()\n",
        "time=datetime.today()\n",
        "print(today)\n",
        "print(time)\n"
      ],
      "metadata": {
        "colab": {
          "base_uri": "https://localhost:8080/"
        },
        "id": "9Xs09WoV3BSg",
        "outputId": "fc5d5d76-89cc-4713-b6cd-eb2d7eea31ea"
      },
      "execution_count": 9,
      "outputs": [
        {
          "output_type": "stream",
          "name": "stdout",
          "text": [
            "2023-05-11\n",
            "2023-05-11 08:24:15.740241\n",
            "2023-05-11 08:24:15.740277\n"
          ]
        }
      ]
    },
    {
      "cell_type": "code",
      "source": [
        "#time delta for adjustment\n",
        "\n",
        "\n",
        "from datetime import timedelta\n",
        "\n",
        "a=timedelta(days=1)\n",
        "b=timedelta(hours=1)\n",
        "\n",
        "c=a-b\n",
        "print(c)"
      ],
      "metadata": {
        "colab": {
          "base_uri": "https://localhost:8080/"
        },
        "id": "caXguteu7U8s",
        "outputId": "c66f076e-0b18-4255-bed2-f2f5aacb9c5f"
      },
      "execution_count": 10,
      "outputs": [
        {
          "output_type": "stream",
          "name": "stdout",
          "text": [
            "23:00:00\n"
          ]
        }
      ]
    }
  ]
}